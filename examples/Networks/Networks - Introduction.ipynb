{
 "cells": [
  {
   "cell_type": "markdown",
   "metadata": {},
   "source": [
    "# Network based predictions\n",
    "\n",
    "The state of the art in crime predication increasingly appears to be \"network based\".  That is, looking at real street networks, and assigning risk to streets, rather than areal grid cells.\n",
    "\n",
    "This is currently an introduction, a very brief literature review, and a plan of action."
   ]
  },
  {
   "cell_type": "markdown",
   "metadata": {},
   "source": [
    "# Literature review\n",
    "\n",
    "Not complete.\n",
    "\n",
    "1. Rosser at al. \"Predictive Crime Mapping: Arbitrary Grids or Street Networks?\" J Quant Criminol (2016). https://doi.org/10.1007/s10940-016-9321-x\n",
    "2. Shiode, Shiode, \"Microscale Prediction of Near-Future Crime Concentrations with Street-Level Geosurveillance\" Geographical Analysis (2014) 46 435–455 https://doi.org/10.1111/gean.12065\n",
    "3. Okabe et al. \"A kernel density estimation method for networks, its computational method and a GIS‐based tool\", \n",
    "International Journal of Geographical Information Science (2009) 23 https://doi.org/10.1080/13658810802475491\n",
    "\n",
    "\n",
    "\n",
    "\n",
    "Some comments:\n",
    "1. \"Prospective hotspotting on a network\".  Algorithm is fairly clear.  Some useful info on estimating parameters.\n",
    "2. Uses a space/time search window to form a statistical test of whether there is an \"outbreak\" of crime (so similar-ish to SatScan in some sense).\n",
    "3. Not about _crime_ as such, but the details on how to adapt KDE methods to a network are very detailed and will be useful."
   ]
  },
  {
   "cell_type": "markdown",
   "metadata": {
    "collapsed": true
   },
   "source": [
    "# Action plan\n",
    "\n",
    "## Network data\n",
    "\n",
    "- Open street map.  I started to look at off-line processing of data with this repository: https://github.com/MatthewDaws/OSMDigest\n",
    "  - Might also consider [OSMNX](https://github.com/gboeing/osmnx)\n",
    "- [TIGER/Line shapefiles](https://www.census.gov/geo/maps-data/data/tiger-line.html)  USA only, but a canonical source.\n",
    "- [Ordnance Survey](https://www.ordnancesurvey.co.uk/) is the canonical source of data in the UK.\n",
    "  - I am very keen to use only [freely available](https://www.ordnancesurvey.co.uk/business-and-government/products/opendata-products.html) (potentially, as in Beer) data\n",
    "  - I think the two appropriate products for us are:\n",
    "  - [OS Open Roads](https://www.ordnancesurvey.co.uk/business-and-government/products/os-open-roads.html)  This is vector data, and a single download.\n",
    "  - [OS OpenMap Local](https://www.ordnancesurvey.co.uk/business-and-government/products/os-open-map-local.html)  Available as vector and raster for each national grid reference square.  (Or for all of the UK, but a massive download).  The raster maps are very detailed.  The vector data, for _roads_, seems no more complete than the \"Open Roads\" download.  But does include _buildings_ in vector format (but no address level data).\n",
    "  - [OS VectorMap](https://www.ordnancesurvey.co.uk/business-and-government/products/vectormap-district.html) Shape files are slightly less detailed than OpenMap; raster format is 1/2 the detail.  Might want to support optionally."
   ]
  },
  {
   "cell_type": "code",
   "execution_count": null,
   "metadata": {
    "collapsed": true
   },
   "outputs": [],
   "source": []
  }
 ],
 "metadata": {
  "kernelspec": {
   "display_name": "Python 3",
   "language": "python",
   "name": "python3"
  },
  "language_info": {
   "codemirror_mode": {
    "name": "ipython",
    "version": 3
   },
   "file_extension": ".py",
   "mimetype": "text/x-python",
   "name": "python",
   "nbconvert_exporter": "python",
   "pygments_lexer": "ipython3",
   "version": "3.6.0"
  }
 },
 "nbformat": 4,
 "nbformat_minor": 2
}
